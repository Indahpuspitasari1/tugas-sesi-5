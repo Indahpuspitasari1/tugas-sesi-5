{
 "cells": [
  {
   "cell_type": "markdown",
   "id": "0a2060cd",
   "metadata": {},
   "source": [
    "# Tugas sesi 5"
   ]
  },
  {
   "cell_type": "markdown",
   "id": "f3335149",
   "metadata": {},
   "source": [
    "#### 1. Buatlah biodata sederhana dengan menggunakan fungsi input (),dan output variabel dengan fungsi format()"
   ]
  },
  {
   "cell_type": "code",
   "execution_count": 7,
   "id": "9ce03846",
   "metadata": {},
   "outputs": [
    {
     "name": "stdout",
     "output_type": "stream",
     "text": [
      "Masukan nama kalian :INDAH PUSPITASARI\n",
      "Masukan kelas kalian :22 H\n",
      "Masukan NIM kalian :20220040095\n",
      "Masukan nama prodi kalian :TEKNIK INFORMATIKA\n",
      "Halo...everyone\n",
      "disini saya ingin memperkenalkan diri\n",
      "Perkenalkan nama saya INDAH PUSPITASARI, dari kelas 22 H, NIM saya 20220040095, dan PRODI saya TEKNIK INFORMATIKA \n"
     ]
    }
   ],
   "source": [
    "NAMA = input(\"Masukan nama kalian :\")\n",
    "KELAS = input(\"Masukan kelas kalian :\")\n",
    "NIM = input(\"Masukan NIM kalian :\")\n",
    "PRODI = input(\"Masukan nama prodi kalian :\")\n",
    "\n",
    "print(\"Halo...everyone\")\n",
    "print(\"disini saya ingin memperkenalkan diri\")\n",
    "print(\"Perkenalkan nama saya {}, dari kelas {}, NIM saya {}, dan PRODI saya {} \".format(NAMA,KELAS,NIM,PRODI))\n"
   ]
  },
  {
   "cell_type": "markdown",
   "id": "56151c44",
   "metadata": {},
   "source": [
    "#### 2. Jika terdapat kalimat UNIVERSITAS NUSAPUTRA SUKABUMI, buatlah kode program untuk menampilkan output\n",
    "<ul>\n",
    "    <li>a. putra nusa\n",
    "    <li>b. NIVERSITAS NSA PTRA SKABMI\n",
    "    <li>c. SUKABUMI PUTRA NUSA UNIVERSITAS\n",
    "    <li>d. UNPS</li>\n",
    "    <li>e. TAS SAPU BUMI</li>\n",
    "</ul>\n"
   ]
  },
  {
   "cell_type": "code",
   "execution_count": 4,
   "id": "ffa5c99c",
   "metadata": {},
   "outputs": [
    {
     "name": "stdout",
     "output_type": "stream",
     "text": [
      "putra nusa\n",
      "NIVERSITAS NSA PTRA SKABMI\n",
      "SUKABUMI PUTRA NUSA UNIVERSITAS\n",
      "UNPS\n",
      "TAS SAPU BUMI\n"
     ]
    }
   ],
   "source": [
    "kalimat = \"UNIVERSITAS NUSA PUTRA SUKABUMI\"\n",
    "\n",
    "a = kalimat[17:22].lower() + kalimat[11:16].lower()\n",
    "b = kalimat[1:12] + kalimat[1] + kalimat[14:17] + kalimat[17] + kalimat[19:23] + kalimat[10] + kalimat[25:28] + kalimat[29:31]\n",
    "c = kalimat[23:31] + kalimat[16:22] + kalimat[11:17] + kalimat[0:11]\n",
    "d = kalimat[0] + kalimat[1] + kalimat[17] + kalimat[23]\n",
    "e = kalimat[8:12] + kalimat[14:16] + kalimat[17:19] + kalimat[11] + kalimat[27:31]\n",
    "\n",
    "print(a)\n",
    "print(b) \n",
    "print(c)\n",
    "print(d)\n",
    "print(e)"
   ]
  }
 ],
 "metadata": {
  "kernelspec": {
   "display_name": "Python 3 (ipykernel)",
   "language": "python",
   "name": "python3"
  },
  "language_info": {
   "codemirror_mode": {
    "name": "ipython",
    "version": 3
   },
   "file_extension": ".py",
   "mimetype": "text/x-python",
   "name": "python",
   "nbconvert_exporter": "python",
   "pygments_lexer": "ipython3",
   "version": "3.9.12"
  }
 },
 "nbformat": 4,
 "nbformat_minor": 5
}
